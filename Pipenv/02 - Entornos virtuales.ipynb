{
 "cells": [
  {
   "cell_type": "markdown",
   "id": "b6cd723f",
   "metadata": {},
   "source": [
    "# Entornos virtuales\n",
    "\n",
    "## Python y PIP\n",
    "\n",
    "Cuando ejecutamos Python generalmente lo hacemos a través del intérprete instalado en nuestro sistema, podemos consultar donde se encuentra ese entorno ejecutando una simple consulta en el módulo `sys`:"
   ]
  },
  {
   "cell_type": "code",
   "execution_count": 1,
   "id": "f41beffc",
   "metadata": {},
   "outputs": [
    {
     "data": {
      "text/plain": [
       "'c:\\\\Users\\\\ANDRES-PC\\\\AppData\\\\Local\\\\Programs\\\\Python\\\\Python311\\\\python.exe'"
      ]
     },
     "execution_count": 1,
     "metadata": {},
     "output_type": "execute_result"
    }
   ],
   "source": [
    "import sys\n",
    "sys.executable"
   ]
  },
  {
   "cell_type": "markdown",
   "id": "8f113c2a",
   "metadata": {},
   "source": [
    "Podemos consultar la versión del intérprete desde una terminal:"
   ]
  },
  {
   "cell_type": "code",
   "execution_count": 2,
   "id": "61092833",
   "metadata": {},
   "outputs": [
    {
     "name": "stdout",
     "output_type": "stream",
     "text": [
      "Python 3.11.3\n"
     ]
    }
   ],
   "source": [
    "!python --version  # en su defecto utilizar python3"
   ]
  },
  {
   "cell_type": "markdown",
   "id": "c5fbb28b",
   "metadata": {},
   "source": [
    "El intérprete de Python tiene su propio gestor de paquetes llamado `pip`:"
   ]
  },
  {
   "cell_type": "code",
   "execution_count": 3,
   "id": "0974927c",
   "metadata": {},
   "outputs": [
    {
     "name": "stdout",
     "output_type": "stream",
     "text": [
      "pip 23.3.1 from C:\\Users\\ANDRES-PC\\AppData\\Local\\Programs\\Python\\Python311\\Lib\\site-packages\\pip (python 3.11)\n",
      "\n"
     ]
    }
   ],
   "source": [
    "!pip --version"
   ]
  },
  {
   "cell_type": "markdown",
   "id": "f525baab",
   "metadata": {},
   "source": [
    "Este gestor es un módulo, por eso se puede ejecutar como un módulo mediante el parámetro `-m`:"
   ]
  },
  {
   "cell_type": "code",
   "execution_count": 4,
   "id": "cc7a376c",
   "metadata": {},
   "outputs": [
    {
     "name": "stdout",
     "output_type": "stream",
     "text": [
      "pip 23.3.1 from c:\\Users\\ANDRES-PC\\AppData\\Local\\Programs\\Python\\Python311\\Lib\\site-packages\\pip (python 3.11)\n",
      "\n"
     ]
    }
   ],
   "source": [
    "!python -m pip --version"
   ]
  },
  {
   "cell_type": "markdown",
   "id": "ac6dd40a",
   "metadata": {},
   "source": [
    "Con esa lógica se puede actualizar como cualquier otro módulo del sistema:"
   ]
  },
  {
   "cell_type": "code",
   "execution_count": 5,
   "id": "3d75e3ba",
   "metadata": {},
   "outputs": [
    {
     "name": "stdout",
     "output_type": "stream",
     "text": [
      "Requirement already satisfied: pip in c:\\users\\andres-pc\\appdata\\local\\programs\\python\\python311\\lib\\site-packages (23.3.1)\n"
     ]
    }
   ],
   "source": [
    "!python -m pip install --upgrade pip"
   ]
  },
  {
   "cell_type": "markdown",
   "id": "0e1fa403",
   "metadata": {},
   "source": [
    "Cada intérprete tiene asignado un solo un gestor de paquetes `pip`, eso significa que solo podemos instalar una versión de el mismo paquete:"
   ]
  },
  {
   "cell_type": "code",
   "execution_count": 6,
   "id": "79c9a68f",
   "metadata": {},
   "outputs": [
    {
     "name": "stdout",
     "output_type": "stream",
     "text": [
      "Package                   Version\n",
      "------------------------- ------------\n",
      "aiohttp                   3.8.4\n",
      "aiosignal                 1.3.1\n",
      "alembic                   1.12.1\n",
      "altgraph                  0.17.3\n",
      "annotated-types           0.6.0\n",
      "anyio                     3.7.1\n",
      "argon2-cffi               21.3.0\n",
      "argon2-cffi-bindings      21.2.0\n",
      "arrow                     1.2.3\n",
      "asttokens                 2.2.1\n",
      "async-lru                 2.0.4\n",
      "async-timeout             4.0.2\n",
      "attrs                     22.2.0\n",
      "auto-py-to-exe            2.33.0\n",
      "Babel                     2.12.1\n",
      "backcall                  0.2.0\n",
      "barcode                   1.0.2\n",
      "beautifulsoup4            4.12.2\n",
      "bidict                    0.22.1\n",
      "bleach                    6.0.0\n",
      "blinker                   1.6.2\n",
      "bokeh                     3.3.0\n",
      "bottle                    0.12.25\n",
      "bottle-websocket          0.2.9\n",
      "certifi                   2023.7.22\n",
      "cffi                      1.15.1\n",
      "chardet                   5.1.0\n",
      "charset-normalizer        3.3.0\n",
      "click                     8.1.3\n",
      "cloudpickle               2.2.1\n",
      "cloudscraper              1.2.67\n",
      "code128                   0.2b2\n",
      "colorama                  0.4.6\n",
      "comm                      0.1.3\n",
      "commonmark                0.9.1\n",
      "contourpy                 1.1.1\n",
      "cryptography              41.0.1\n",
      "cycler                    0.12.1\n",
      "debugpy                   1.6.7\n",
      "decorator                 5.1.1\n",
      "defusedxml                0.7.1\n",
      "distlib                   0.3.7\n",
      "dnspython                 2.2.1\n",
      "docx2pdf                  0.1.8\n",
      "Eel                       0.16.0\n",
      "et-xmlfile                1.1.0\n",
      "executing                 1.2.0\n",
      "fastapi                   0.96.1\n",
      "fastjsonschema            2.18.0\n",
      "filelock                  3.12.2\n",
      "Flask                     2.3.2\n",
      "fonttools                 4.43.1\n",
      "fqdn                      1.5.1\n",
      "frozenlist                1.3.3\n",
      "future                    0.18.3\n",
      "gevent                    22.10.2\n",
      "gevent-websocket          0.10.1\n",
      "greenlet                  2.0.2\n",
      "gunicorn                  20.1.0\n",
      "h11                       0.14.0\n",
      "httpcore                  0.17.3\n",
      "httpx                     0.24.1\n",
      "icmplib                   3.0.3\n",
      "idna                      3.4\n",
      "impacket                  0.10.0\n",
      "ipykernel                 6.23.1\n",
      "ipython                   8.13.2\n",
      "ipython-genutils          0.2.0\n",
      "ipywidgets                8.1.0\n",
      "isoduration               20.11.0\n",
      "itsdangerous              2.1.2\n",
      "jedi                      0.18.2\n",
      "Jinja2                    3.1.2\n",
      "json5                     0.9.14\n",
      "jsonpointer               2.4\n",
      "jsonschema                4.19.0\n",
      "jsonschema-specifications 2023.7.1\n",
      "jupyter                   1.0.0\n",
      "jupyter_client            8.2.0\n",
      "jupyter-console           6.6.3\n",
      "jupyter_core              5.3.0\n",
      "jupyter-events            0.7.0\n",
      "jupyter-lsp               2.2.0\n",
      "jupyter_server            2.7.0\n",
      "jupyter_server_terminals  0.4.4\n",
      "jupyterlab                4.0.4\n",
      "jupyterlab-pygments       0.2.2\n",
      "jupyterlab_server         2.24.0\n",
      "jupyterlab-widgets        3.0.8\n",
      "kiwisolver                1.4.5\n",
      "ldap3                     2.9.1\n",
      "ldapdomaindump            0.9.4\n",
      "Levenshtein               0.21.0\n",
      "lxml                      4.9.3\n",
      "Mako                      1.2.4\n",
      "markdown-it-py            3.0.0\n",
      "MarkupSafe                2.1.3\n",
      "matplotlib                3.8.0\n",
      "matplotlib-inline         0.1.6\n",
      "maxminddb                 2.3.0\n",
      "mdurl                     0.1.2\n",
      "mistune                   3.0.1\n",
      "multidict                 6.0.4\n",
      "nbclient                  0.8.0\n",
      "nbconvert                 7.7.3\n",
      "nbformat                  5.9.2\n",
      "nest-asyncio              1.5.6\n",
      "notebook                  7.0.2\n",
      "notebook_shim             0.2.3\n",
      "numpy                     1.26.0\n",
      "openai                    0.27.2\n",
      "openpyxl                  3.1.2\n",
      "overrides                 7.4.0\n",
      "packaging                 23.1\n",
      "pandas                    2.1.1\n",
      "pandocfilters             1.5.0\n",
      "parso                     0.8.3\n",
      "pefile                    2023.2.7\n",
      "pickleshare               0.7.5\n",
      "Pillow                    10.1.0\n",
      "pip                       23.3.1\n",
      "pipdeptree                2.13.0\n",
      "pipenv                    2023.8.20\n",
      "platformdirs              3.10.0\n",
      "prometheus-client         0.17.1\n",
      "prompt-toolkit            3.0.38\n",
      "psutil                    5.9.5\n",
      "pure-eval                 0.2.2\n",
      "py4j                      0.10.9.7\n",
      "pyasn1                    0.4.8\n",
      "pycparser                 2.21\n",
      "pycryptodomex             3.18.0\n",
      "pydantic                  1.10.13\n",
      "pydantic_core             2.10.1\n",
      "Pygments                  2.14.0\n",
      "pyinstaller               5.10.0\n",
      "pyinstaller-hooks-contrib 2023.2\n",
      "pyOpenSSL                 23.2.0\n",
      "pyparsing                 3.0.9\n",
      "PyRoxy                    1.0b5\n",
      "PySocks                   1.7.1\n",
      "pyspark                   3.4.1\n",
      "python-dateutil           2.8.2\n",
      "python-dotenv             1.0.0\n",
      "python-engineio           4.8.0\n",
      "python-json-logger        2.0.7\n",
      "python-Levenshtein        0.21.0\n",
      "python-multipart          0.0.5\n",
      "python-socketio           5.10.0\n",
      "pytz                      2023.3.post1\n",
      "pywin32                   306\n",
      "pywin32-ctypes            0.2.0\n",
      "pywinpty                  2.0.11\n",
      "PyYAML                    6.0.1\n",
      "pyzmq                     25.0.2\n",
      "qtconsole                 5.4.3\n",
      "QtPy                      2.3.1\n",
      "rapidfuzz                 3.0.0\n",
      "redis                     4.6.0\n",
      "referencing               0.30.2\n",
      "reflex                    0.3.1\n",
      "requests                  2.31.0\n",
      "requests-toolbelt         1.0.0\n",
      "rfc3339-validator         0.1.4\n",
      "rfc3986-validator         0.1.1\n",
      "rich                      13.6.0\n",
      "rpds-py                   0.9.2\n",
      "Send2Trash                1.8.2\n",
      "setuptools                68.1.2\n",
      "shellingham               1.5.0.post1\n",
      "simple-websocket          1.0.0\n",
      "six                       1.16.0\n",
      "sniffio                   1.3.0\n",
      "soupsieve                 2.4.1\n",
      "SQLAlchemy                1.4.41\n",
      "sqlalchemy2-stubs         0.0.2a35\n",
      "sqlmodel                  0.0.8\n",
      "stack-data                0.6.2\n",
      "starlette                 0.27.0\n",
      "starlette-admin           0.9.0\n",
      "tabulate                  0.9.0\n",
      "terminado                 0.17.1\n",
      "tinycss2                  1.2.1\n",
      "tornado                   6.3.2\n",
      "tqdm                      4.65.0\n",
      "traitlets                 5.9.0\n",
      "typer                     0.4.2\n",
      "typing_extensions         4.8.0\n",
      "tzdata                    2023.3\n",
      "uri-template              1.3.0\n",
      "urllib3                   2.0.5\n",
      "uvicorn                   0.20.0\n",
      "virtualenv                20.24.3\n",
      "watchdog                  2.3.1\n",
      "watchfiles                0.19.0\n",
      "wcwidth                   0.2.6\n",
      "webcolors                 1.13\n",
      "webencodings              0.5.1\n",
      "websocket-client          1.6.1\n",
      "websockets                10.4\n",
      "Werkzeug                  2.3.6\n",
      "whichcraft                0.6.1\n",
      "widgetsnbextension        4.0.8\n",
      "WooCommerce               3.0.0\n",
      "wrapt                     1.15.0\n",
      "wsproto                   1.2.0\n",
      "xyzservices               2023.10.1\n",
      "yarl                      1.8.2\n",
      "zope.event                4.6\n",
      "zope.interface            6.0\n"
     ]
    }
   ],
   "source": [
    "!pip list"
   ]
  },
  {
   "cell_type": "markdown",
   "id": "79522ea3",
   "metadata": {},
   "source": [
    "¿No estáis de acuerdo conmigo en que si desarrollamos diferentes proyectos, es posible que necesitemos versiones diferentes de un mismo paquete? \n",
    "\n",
    "Por ejemplo imaginad que empezamos un proyecto con la versión 1 de un paquete como dependencia y al poco lo actualizan a la 2. Sin embargo no podemos actualizarlo porque han cambiado cosas y el proyecto quedaría inservible. Si a eso le sumamos que paralelamente necesitamos instalar sí o sí la versión 2 para otro proyecto qué podemos hacer?\n",
    "\n",
    "## Entornos virtuales\n",
    "\n",
    "Los desarrolladores de `Python` son consicientes de este problema y por eso el intérprete incorpora un módulo interno  llamado `venv`:"
   ]
  },
  {
   "cell_type": "code",
   "execution_count": 7,
   "id": "8ac023ce",
   "metadata": {},
   "outputs": [
    {
     "name": "stdout",
     "output_type": "stream",
     "text": [
      "usage: venv [-h] [--system-site-packages] [--symlinks | --copies] [--clear]\n",
      "            [--upgrade] [--without-pip] [--prompt PROMPT] [--upgrade-deps]\n",
      "            ENV_DIR [ENV_DIR ...]\n",
      "\n",
      "Creates virtual Python environments in one or more target directories.\n",
      "\n",
      "positional arguments:\n",
      "  ENV_DIR               A directory to create the environment in.\n",
      "\n",
      "options:\n",
      "  -h, --help            show this help message and exit\n",
      "  --system-site-packages\n",
      "                        Give the virtual environment access to the system\n",
      "                        site-packages dir.\n",
      "  --symlinks            Try to use symlinks rather than copies, when symlinks\n",
      "                        are not the default for the platform.\n",
      "  --copies              Try to use copies rather than symlinks, even when\n",
      "                        symlinks are the default for the platform.\n",
      "  --clear               Delete the contents of the environment directory if it\n",
      "                        already exists, before environment creation.\n",
      "  --upgrade             Upgrade the environment directory to use this version\n",
      "                        of Python, assuming Python has been upgraded in-place.\n",
      "  --without-pip         Skips installing or upgrading pip in the virtual\n",
      "                        environment (pip is bootstrapped by default)\n",
      "  --prompt PROMPT       Provides an alternative prompt prefix for this\n",
      "                        environment.\n",
      "  --upgrade-deps        Upgrade core dependencies: pip setuptools to the\n",
      "                        latest version in PyPI\n",
      "\n",
      "Once an environment has been created, you may wish to activate it, e.g. by\n",
      "sourcing an activate script in its bin directory.\n"
     ]
    }
   ],
   "source": [
    "!python -m venv -h"
   ]
  },
  {
   "cell_type": "markdown",
   "id": "a93bc01e",
   "metadata": {},
   "source": [
    "Este módulo permite crear copias del **entorno nativo** de `Python` con su propio gestor `pip` llamadas **entornos virtuales**.\n",
    "\n",
    "Como manejar entornos virtuales con `venv` requiere mucho trabajo aprenderemos un módulo más moderno para hacer lo mismo y más:\n",
    "\n",
    "## Pipenv\n",
    "\n",
    "Tal como su nombre indica, `Pipenv` es `pip` + `venv`, un conjunto de funcionalidades que permite gestionar entornos virtuales y sus dependencias:"
   ]
  },
  {
   "cell_type": "code",
   "execution_count": 8,
   "id": "f9d81419",
   "metadata": {},
   "outputs": [
    {
     "name": "stdout",
     "output_type": "stream",
     "text": [
      "Usage: python -m pipenv [OPTIONS] COMMAND [ARGS]...\n",
      "\n",
      "Options:\n",
      "  --where                         Output project home information.\n",
      "  --venv                          Output virtualenv information.\n",
      "  --py                            Output Python interpreter information.\n",
      "  --envs                          Output Environment Variable options.\n",
      "  --rm                            Remove the virtualenv.\n",
      "  --bare                          Minimal output.\n",
      "  --man                           Display manpage.\n",
      "  --support                       Output diagnostic information for use in\n",
      "                                  GitHub issues.\n",
      "  --site-packages / --no-site-packages\n",
      "                                  Enable site-packages for the virtualenv.\n",
      "                                  [env var: PIPENV_SITE_PACKAGES]\n",
      "  --python TEXT                   Specify which version of Python virtualenv\n",
      "                                  should use.\n",
      "  --clear                         Clears caches (pipenv, pip).  [env var:\n",
      "                                  PIPENV_CLEAR]\n",
      "  -q, --quiet                     Quiet mode.\n",
      "  -v, --verbose                   Verbose mode.\n",
      "  --pypi-mirror TEXT              Specify a PyPI mirror.\n",
      "  --version                       Show the version and exit.\n",
      "  -h, --help                      Show this message and exit.\n",
      "\n",
      "\n",
      "Usage Examples:\n",
      "   Create a new project using Python 3.7, specifically:\n",
      "   $ pipenv --python 3.7\n",
      "\n",
      "   Remove project virtualenv (inferred from current directory):\n",
      "   $ pipenv --rm\n",
      "\n",
      "   Install all dependencies for a project (including dev):\n",
      "   $ pipenv install --dev\n",
      "\n",
      "   Create a lockfile containing pre-releases:\n",
      "   $ pipenv lock --pre\n",
      "\n",
      "   Show a graph of your installed dependencies:\n",
      "   $ pipenv graph\n",
      "\n",
      "   Check your installed dependencies for security vulnerabilities:\n",
      "   $ pipenv check\n",
      "\n",
      "   Install a local setup.py into your virtual environment/Pipfile:\n",
      "   $ pipenv install -e .\n",
      "\n",
      "   Use a lower-level pip command:\n",
      "   $ pipenv run pip freeze\n",
      "\n",
      "Commands:\n",
      "  check         Checks for PyUp Safety security vulnerabilities and against\n",
      "                PEP 508 markers provided in Pipfile.\n",
      "  clean         Uninstalls all packages not specified in Pipfile.lock.\n",
      "  graph         Displays currently-installed dependency graph information.\n",
      "  install       Installs provided packages and adds them to Pipfile, or (if no\n",
      "                packages are given), installs all packages from Pipfile.\n",
      "  lock          Generates Pipfile.lock.\n",
      "  open          View a given module in your editor.\n",
      "  requirements  Generate a requirements.txt from Pipfile.lock.\n",
      "  run           Spawns a command installed into the virtualenv.\n",
      "  scripts       Lists scripts in current environment config.\n",
      "  shell         Spawns a shell within the virtualenv.\n",
      "  sync          Installs all packages specified in Pipfile.lock.\n",
      "  uninstall     Uninstalls a provided package and removes it from Pipfile.\n",
      "  update        Runs lock, then sync.\n",
      "  upgrade       Resolves provided packages and adds them to Pipfile, or (if no\n",
      "                packages are given), merges results to Pipfile.lock\n",
      "  verify        Verify the hash in Pipfile.lock is up-to-date.\n"
     ]
    }
   ],
   "source": [
    "!python -m pipenv -h"
   ]
  },
  {
   "cell_type": "markdown",
   "id": "e3ddb561",
   "metadata": {},
   "source": [
    "En la próxima lección vamos a aprender a utilizar `Pipenv` mediante la práctica creando nuestro primer entorno virtual."
   ]
  },
  {
   "cell_type": "code",
   "execution_count": null,
   "id": "29645b8f",
   "metadata": {},
   "outputs": [],
   "source": []
  }
 ],
 "metadata": {
  "kernelspec": {
   "display_name": "Python 3 (ipykernel)",
   "language": "python",
   "name": "python3"
  },
  "language_info": {
   "codemirror_mode": {
    "name": "ipython",
    "version": 3
   },
   "file_extension": ".py",
   "mimetype": "text/x-python",
   "name": "python",
   "nbconvert_exporter": "python",
   "pygments_lexer": "ipython3",
   "version": "3.11.3"
  }
 },
 "nbformat": 4,
 "nbformat_minor": 5
}
