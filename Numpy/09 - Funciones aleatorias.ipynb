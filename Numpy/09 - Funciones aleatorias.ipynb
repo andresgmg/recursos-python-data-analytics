{
 "cells": [
  {
   "cell_type": "markdown",
   "id": "cf5d45f9",
   "metadata": {},
   "source": [
    "# Funciones aleatorias\n",
    "\n",
    "Hablando de funciones no podemos olvidar las funciones aleatorias encontradas en el módulo `random`. [En la documentación oficial](https://numpy.org/doc/stable/reference/random/index.html) encontraréis el listado completo con ejemplos de uso.\n",
    "\n",
    "Tenemos funciones para generar arrays con `datos aleatorios` y `permutaciones`. También hay muchas enfocadas a generar muestras de distribuciones de probabilidad pensadas para visualizar estadística.\n",
    "\n",
    "Vamos a practicar algunas de las dos primeras.\n",
    "\n",
    "## Datos aleatorios"
   ]
  },
  {
   "cell_type": "code",
   "execution_count": 2,
   "id": "d6d5857a",
   "metadata": {},
   "outputs": [],
   "source": [
    "import numpy as np"
   ]
  },
  {
   "cell_type": "code",
   "execution_count": 5,
   "id": "7959ffbb",
   "metadata": {},
   "outputs": [
    {
     "data": {
      "text/plain": [
       "0.6272146499160006"
      ]
     },
     "execution_count": 5,
     "metadata": {},
     "output_type": "execute_result"
    }
   ],
   "source": [
    "# número decimal entre 0 y 1\n",
    "np.random.rand()"
   ]
  },
  {
   "cell_type": "code",
   "execution_count": 7,
   "id": "df6d6818",
   "metadata": {},
   "outputs": [
    {
     "data": {
      "text/plain": [
       "array([0.23708799, 0.7931136 , 0.95160495, 0.10282471])"
      ]
     },
     "execution_count": 7,
     "metadata": {},
     "output_type": "execute_result"
    }
   ],
   "source": [
    "# array 1D de decimales entre 0 y 1\n",
    "np.random.rand(4)"
   ]
  },
  {
   "cell_type": "code",
   "execution_count": 12,
   "id": "2963980d",
   "metadata": {},
   "outputs": [
    {
     "data": {
      "text/plain": [
       "array([[0.8072625 , 0.23363062],\n",
       "       [0.49858585, 0.32129732],\n",
       "       [0.69814915, 0.19796679],\n",
       "       [0.08607979, 0.99520497]])"
      ]
     },
     "execution_count": 12,
     "metadata": {},
     "output_type": "execute_result"
    }
   ],
   "source": [
    "# array 2D de decimales entre 0 y 1\n",
    "np.random.rand(4,2)"
   ]
  },
  {
   "cell_type": "code",
   "execution_count": 9,
   "id": "0b38a3ae",
   "metadata": {},
   "outputs": [
    {
     "data": {
      "text/plain": [
       "array([[[3.2717853 , 8.40546155],\n",
       "        [5.09768354, 3.52839805]],\n",
       "\n",
       "       [[1.67630333, 4.72731082],\n",
       "        [2.98751362, 3.72383003]]])"
      ]
     },
     "execution_count": 9,
     "metadata": {},
     "output_type": "execute_result"
    }
   ],
   "source": [
    "# array 3D de decimales entre 0 y N\n",
    "np.random.uniform(10, size=[2,2,2])"
   ]
  },
  {
   "cell_type": "code",
   "execution_count": 13,
   "id": "095c18e5",
   "metadata": {},
   "outputs": [
    {
     "data": {
      "text/plain": [
       "array([[[[-9.22262358, -6.61108861],\n",
       "         [-0.2900906 ,  4.57876403]],\n",
       "\n",
       "        [[-6.55571947,  1.34258955],\n",
       "         [ 1.55874262, -6.50144914]]],\n",
       "\n",
       "\n",
       "       [[[-5.97942568, -1.69863156],\n",
       "         [-0.25102624,  1.96770704]],\n",
       "\n",
       "        [[-8.09153452, -0.53646239],\n",
       "         [ 7.58809548,  7.72404482]]]])"
      ]
     },
     "execution_count": 13,
     "metadata": {},
     "output_type": "execute_result"
    }
   ],
   "source": [
    "# array 4D de decimales entre -N = -10 y M = 10\n",
    "np.random.uniform(-10, 10, size=[2,2,2,2])"
   ]
  },
  {
   "cell_type": "code",
   "execution_count": 31,
   "id": "9039ccb1",
   "metadata": {},
   "outputs": [
    {
     "data": {
      "text/plain": [
       "8"
      ]
     },
     "execution_count": 31,
     "metadata": {},
     "output_type": "execute_result"
    }
   ],
   "source": [
    "# número entero entre 0 y N\n",
    "np.random.randint(10) # N = 10"
   ]
  },
  {
   "cell_type": "code",
   "execution_count": 32,
   "id": "ecfbc054",
   "metadata": {},
   "outputs": [
    {
     "data": {
      "text/plain": [
       "array([[0, 5],\n",
       "       [8, 3],\n",
       "       [5, 4]])"
      ]
     },
     "execution_count": 32,
     "metadata": {},
     "output_type": "execute_result"
    }
   ],
   "source": [
    "# array de enteros entre 0 y N\n",
    "np.random.randint(10, size=[3,2])"
   ]
  },
  {
   "cell_type": "code",
   "execution_count": 33,
   "id": "7fb65934",
   "metadata": {},
   "outputs": [
    {
     "data": {
      "text/plain": [
       "array([[  4, -10],\n",
       "       [  5,  -7],\n",
       "       [  5,   0]])"
      ]
     },
     "execution_count": 33,
     "metadata": {},
     "output_type": "execute_result"
    }
   ],
   "source": [
    "# array de enteros entre -N y M\n",
    "np.random.randint(-10, 10, size=[3,2])"
   ]
  },
  {
   "cell_type": "code",
   "execution_count": 34,
   "id": "e860ee65",
   "metadata": {},
   "outputs": [
    {
     "data": {
      "text/plain": [
       "array([ 0.01935179,  1.10243725,  0.23308549,  1.06519013,  1.05958997,\n",
       "       -1.38635021, -0.3586975 , -0.34902714, -0.48859762, -0.56415332,\n",
       "       -0.77280051,  1.56328367, -2.10383628, -1.42746961,  1.01076916,\n",
       "       -0.1759797 , -0.65607221, -1.16045414, -0.45784317,  0.90198582])"
      ]
     },
     "execution_count": 34,
     "metadata": {},
     "output_type": "execute_result"
    }
   ],
   "source": [
    "# array uniforme con curva gaussiana\n",
    "np.random.normal(size=20)"
   ]
  },
  {
   "cell_type": "markdown",
   "id": "538d5c41",
   "metadata": {},
   "source": [
    "## Permutaciones"
   ]
  },
  {
   "cell_type": "code",
   "execution_count": 35,
   "id": "487b5ff0",
   "metadata": {},
   "outputs": [
    {
     "data": {
      "text/plain": [
       "array([0, 1, 2, 3, 4, 5, 6, 7, 8, 9])"
      ]
     },
     "execution_count": 35,
     "metadata": {},
     "output_type": "execute_result"
    }
   ],
   "source": [
    "arr = np.arange(10)\n",
    "\n",
    "arr"
   ]
  },
  {
   "cell_type": "code",
   "execution_count": 39,
   "id": "428c472c",
   "metadata": {},
   "outputs": [
    {
     "data": {
      "text/plain": [
       "array([6, 7, 9, 2, 8, 1, 3, 5, 0, 4])"
      ]
     },
     "execution_count": 39,
     "metadata": {},
     "output_type": "execute_result"
    }
   ],
   "source": [
    "# desordenar un array\n",
    "np.random.shuffle(arr)\n",
    "\n",
    "arr"
   ]
  },
  {
   "cell_type": "code",
   "execution_count": 40,
   "id": "6cb45b00",
   "metadata": {},
   "outputs": [
    {
     "data": {
      "text/plain": [
       "array([ 5, 11, 12,  2, 13,  8,  6,  4, 10,  9,  7,  3,  1, 14,  0])"
      ]
     },
     "execution_count": 40,
     "metadata": {},
     "output_type": "execute_result"
    }
   ],
   "source": [
    "# generar secuencia permutada a partir de un número\n",
    "np.random.permutation(15)"
   ]
  }
 ],
 "metadata": {
  "kernelspec": {
   "display_name": "Python 3 (ipykernel)",
   "language": "python",
   "name": "python3"
  },
  "language_info": {
   "codemirror_mode": {
    "name": "ipython",
    "version": 3
   },
   "file_extension": ".py",
   "mimetype": "text/x-python",
   "name": "python",
   "nbconvert_exporter": "python",
   "pygments_lexer": "ipython3",
   "version": "3.11.3"
  }
 },
 "nbformat": 4,
 "nbformat_minor": 5
}
