{
 "cells": [
  {
   "cell_type": "markdown",
   "id": "523fffb2",
   "metadata": {},
   "source": [
    "# La clase array de NumPy\n",
    "\n",
    "La programación gráfica se basa en la idea de manipular información almacenada en unas estructuras conocidas como vectores y matrices. \n",
    "\n",
    "En Python la única forma de simular estas estructuras es usando listas y lo malo es que son muy limitadas respecto a las funciones matemáticas que permiten. \n",
    "\n",
    "**Numpy** viene a solucionar esa carencia ofreciéndonos un nuevo tipo de dato llamado `array`, es parecido a una lista y de hecho se puede crear a partir de ellas:"
   ]
  },
  {
   "cell_type": "code",
   "execution_count": 3,
   "id": "74f2889d",
   "metadata": {},
   "outputs": [
    {
     "data": {
      "text/plain": [
       "array([1, 2, 3, 4, 5])"
      ]
     },
     "execution_count": 3,
     "metadata": {},
     "output_type": "execute_result"
    }
   ],
   "source": [
    "# Normalmente se suele importar numpy como np\n",
    "import numpy as np\n",
    "\n",
    "# Podemos crear un arreglo a partir de\n",
    "array = np.array([1, 2, 3, 4, 5])\n",
    "\n",
    "# Y lo mostramos\n",
    "array"
   ]
  },
  {
   "cell_type": "markdown",
   "id": "842a8c01",
   "metadata": {},
   "source": [
    "Si lo imprimimos directamente notaremos algo interesante:"
   ]
  },
  {
   "cell_type": "code",
   "execution_count": 4,
   "id": "a6799fca",
   "metadata": {},
   "outputs": [
    {
     "name": "stdout",
     "output_type": "stream",
     "text": [
      "[1 2 3 4 5]\n"
     ]
    }
   ],
   "source": [
    "print(array)"
   ]
  },
  {
   "cell_type": "markdown",
   "id": "ab88de9c",
   "metadata": {},
   "source": [
    "En la representación en forma de cadena, son como listas pero con los elementos separados por espacios.\n",
    "\n",
    "Podemos consultar el tipo de la variable:"
   ]
  },
  {
   "cell_type": "code",
   "execution_count": 5,
   "id": "eee1f6dd",
   "metadata": {},
   "outputs": [
    {
     "data": {
      "text/plain": [
       "numpy.ndarray"
      ]
     },
     "execution_count": 5,
     "metadata": {},
     "output_type": "execute_result"
    }
   ],
   "source": [
    "type(array)"
   ]
  },
  {
   "cell_type": "markdown",
   "id": "33acff1d",
   "metadata": {},
   "source": [
    "Este `array` formado a partir de una lista simple tiene una dimensión y se conoce como **vector**."
   ]
  },
  {
   "cell_type": "markdown",
   "id": "247cb1e2",
   "metadata": {},
   "source": [
    "## Dimensión y forma"
   ]
  },
  {
   "cell_type": "markdown",
   "id": "3f48e611",
   "metadata": {},
   "source": [
    "Podemos consultar la dimensión y forma de un `array` con sus propiedades `ndim` y `shape`:"
   ]
  },
  {
   "cell_type": "code",
   "execution_count": 6,
   "id": "e1b904a0",
   "metadata": {},
   "outputs": [
    {
     "data": {
      "text/plain": [
       "1"
      ]
     },
     "execution_count": 6,
     "metadata": {},
     "output_type": "execute_result"
    }
   ],
   "source": [
    "array.ndim"
   ]
  },
  {
   "cell_type": "code",
   "execution_count": 7,
   "id": "bfd2bc74",
   "metadata": {},
   "outputs": [
    {
     "data": {
      "text/plain": [
       "(5,)"
      ]
     },
     "execution_count": 7,
     "metadata": {},
     "output_type": "execute_result"
    }
   ],
   "source": [
    "array.shape"
   ]
  },
  {
   "cell_type": "markdown",
   "id": "84ea2e27",
   "metadata": {},
   "source": [
    "En la tupla `(5,)` el primer valor indica a que el array tiene 5 elementos en la primera dimensión (de ancho).\n",
    "\n",
    "Ahora bien, si definimos un `array` a partir de una lista anidada formada por dos sublistas:"
   ]
  },
  {
   "cell_type": "code",
   "execution_count": 8,
   "id": "d064a4b5",
   "metadata": {},
   "outputs": [],
   "source": [
    "array = np.array([\n",
    "    [1, 2, 3, 4, 5],\n",
    "    [6, 7, 8, 9, 10]\n",
    "])"
   ]
  },
  {
   "cell_type": "code",
   "execution_count": 9,
   "id": "3448795e",
   "metadata": {},
   "outputs": [
    {
     "name": "stdout",
     "output_type": "stream",
     "text": [
      "[[ 1  2  3  4  5]\n",
      " [ 6  7  8  9 10]]\n"
     ]
    }
   ],
   "source": [
    "print(array)"
   ]
  },
  {
   "cell_type": "code",
   "execution_count": 10,
   "id": "d077527c",
   "metadata": {},
   "outputs": [
    {
     "data": {
      "text/plain": [
       "2"
      ]
     },
     "execution_count": 10,
     "metadata": {},
     "output_type": "execute_result"
    }
   ],
   "source": [
    "array.ndim"
   ]
  },
  {
   "cell_type": "code",
   "execution_count": 11,
   "id": "9845a182",
   "metadata": {},
   "outputs": [
    {
     "data": {
      "text/plain": [
       "(2, 5)"
      ]
     },
     "execution_count": 11,
     "metadata": {},
     "output_type": "execute_result"
    }
   ],
   "source": [
    "array.shape"
   ]
  },
  {
   "cell_type": "markdown",
   "id": "e10ae9a2",
   "metadata": {},
   "source": [
    "En este caso `array` se muestra como una tabla de 2 filas y 5 columnas, números que precisamente concuerdan con la forma `(2, 5)`.\n",
    "\n",
    "Estas estructuras formadas por filas y columnas parecidas a una tabla tienen dos dimensiones, ancho y alto. \n",
    "\n",
    "También se conocen como vectores multidimensionales o matrices 2D.\n",
    "\n",
    "## Tipo de datos\n",
    "\n",
    "Podemos consultar el tipo de un `array`, por ejemplo éste que contiene sólo enteros:"
   ]
  },
  {
   "cell_type": "code",
   "execution_count": 12,
   "id": "d3ef0fb8",
   "metadata": {},
   "outputs": [],
   "source": [
    "array = np.array([1, 2, 3, 4, 5])"
   ]
  },
  {
   "cell_type": "code",
   "execution_count": 13,
   "id": "fb01046c",
   "metadata": {},
   "outputs": [
    {
     "data": {
      "text/plain": [
       "dtype('int32')"
      ]
     },
     "execution_count": 13,
     "metadata": {},
     "output_type": "execute_result"
    }
   ],
   "source": [
    "array.dtype"
   ]
  },
  {
   "cell_type": "markdown",
   "id": "95dbd815",
   "metadata": {},
   "source": [
    "En mi máquina el tipo del `array` se establece automáticamente como `int64` (entero de 64 bits), aunque puede diferir dependiendo de la arquitectura del procesador.\n",
    "\n",
    "Si uno de los valores fuera decimal el tipo del `array` completo cambiará a decimal:"
   ]
  },
  {
   "cell_type": "code",
   "execution_count": 14,
   "id": "0b095fd9",
   "metadata": {},
   "outputs": [],
   "source": [
    "array = np.array([1, 2, 3, 4, 5, 6.1234])"
   ]
  },
  {
   "cell_type": "code",
   "execution_count": 15,
   "id": "a31c4ff5",
   "metadata": {},
   "outputs": [
    {
     "data": {
      "text/plain": [
       "dtype('float64')"
      ]
     },
     "execution_count": 15,
     "metadata": {},
     "output_type": "execute_result"
    }
   ],
   "source": [
    "array.dtype"
   ]
  },
  {
   "cell_type": "markdown",
   "id": "ee21ad7b",
   "metadata": {},
   "source": [
    "También podemos almacenar cadenas:"
   ]
  },
  {
   "cell_type": "code",
   "execution_count": 16,
   "id": "0700969c",
   "metadata": {},
   "outputs": [],
   "source": [
    "array = np.array([\"Hola\", \"que\", \"tal\"])"
   ]
  },
  {
   "cell_type": "code",
   "execution_count": 17,
   "id": "b0c6d412",
   "metadata": {},
   "outputs": [
    {
     "data": {
      "text/plain": [
       "dtype('<U4')"
      ]
     },
     "execution_count": 17,
     "metadata": {},
     "output_type": "execute_result"
    }
   ],
   "source": [
    "array.dtype"
   ]
  },
  {
   "cell_type": "markdown",
   "id": "755f4b7d",
   "metadata": {},
   "source": [
    "En este caso nos indica un tipo extraño llamado `<U4`. Según la documentación de numpy esto hace referencia a que el `array` es de tipo `Unicode`, es decir, que contiene símbolos de escritura.\n",
    "\n",
    "Si mezclamos números y textos el tipo cambia un poco más:"
   ]
  },
  {
   "cell_type": "code",
   "execution_count": 18,
   "id": "c1d04a0a",
   "metadata": {},
   "outputs": [],
   "source": [
    "array = np.array([\"Hola\", 1234, 3.1415])"
   ]
  },
  {
   "cell_type": "code",
   "execution_count": 19,
   "id": "7e354c07",
   "metadata": {},
   "outputs": [
    {
     "data": {
      "text/plain": [
       "dtype('<U32')"
      ]
     },
     "execution_count": 19,
     "metadata": {},
     "output_type": "execute_result"
    }
   ],
   "source": [
    "array.dtype"
   ]
  },
  {
   "cell_type": "markdown",
   "id": "597c01f6",
   "metadata": {},
   "source": [
    "Si mostramos su contenido veremos algo interesante:"
   ]
  },
  {
   "cell_type": "code",
   "execution_count": 20,
   "id": "52471653",
   "metadata": {},
   "outputs": [
    {
     "data": {
      "text/plain": [
       "array(['Hola', '1234', '3.1415'], dtype='<U32')"
      ]
     },
     "execution_count": 20,
     "metadata": {},
     "output_type": "execute_result"
    }
   ],
   "source": [
    "array"
   ]
  },
  {
   "cell_type": "markdown",
   "id": "d32eacab",
   "metadata": {},
   "source": [
    "Todo se han vuelto cadenas de caracteres.\n",
    "\n",
    "Con esto queda claro que los `arrays` no son listas, sino unas estructuras pensadas para almacenar vectores y matrices, que son conscientes en todo momento de su dimensión, forma y tipo de datos.\n",
    "\n",
    "## Tablas y gráficos\n",
    "\n",
    "Podemos mostrar gráficos y tablas, para ello se utiliza las biblioteca `numpy` en conjunto con `matplotlib` y `pandas`."
   ]
  },
  {
   "cell_type": "markdown",
   "id": "ff5ffcaf",
   "metadata": {},
   "source": [
    "Ambas las veremos en profundidad en las próximas secciones, pero vamos a hacer un ejemplo:"
   ]
  },
  {
   "cell_type": "code",
   "execution_count": 21,
   "id": "30b79c91",
   "metadata": {},
   "outputs": [
    {
     "data": {
      "text/html": [
       "<div>\n",
       "<style scoped>\n",
       "    .dataframe tbody tr th:only-of-type {\n",
       "        vertical-align: middle;\n",
       "    }\n",
       "\n",
       "    .dataframe tbody tr th {\n",
       "        vertical-align: top;\n",
       "    }\n",
       "\n",
       "    .dataframe thead th {\n",
       "        text-align: right;\n",
       "    }\n",
       "</style>\n",
       "<table border=\"1\" class=\"dataframe\">\n",
       "  <thead>\n",
       "    <tr style=\"text-align: right;\">\n",
       "      <th></th>\n",
       "      <th>Pepe</th>\n",
       "      <th>María</th>\n",
       "      <th>Juan</th>\n",
       "    </tr>\n",
       "  </thead>\n",
       "  <tbody>\n",
       "    <tr>\n",
       "      <th>0</th>\n",
       "      <td>1</td>\n",
       "      <td>49</td>\n",
       "      <td>46</td>\n",
       "    </tr>\n",
       "    <tr>\n",
       "      <th>1</th>\n",
       "      <td>26</td>\n",
       "      <td>70</td>\n",
       "      <td>65</td>\n",
       "    </tr>\n",
       "    <tr>\n",
       "      <th>2</th>\n",
       "      <td>69</td>\n",
       "      <td>29</td>\n",
       "      <td>34</td>\n",
       "    </tr>\n",
       "    <tr>\n",
       "      <th>3</th>\n",
       "      <td>16</td>\n",
       "      <td>16</td>\n",
       "      <td>68</td>\n",
       "    </tr>\n",
       "  </tbody>\n",
       "</table>\n",
       "</div>"
      ],
      "text/plain": [
       "   Pepe  María  Juan\n",
       "0     1     49    46\n",
       "1    26     70    65\n",
       "2    69     29    34\n",
       "3    16     16    68"
      ]
     },
     "execution_count": 21,
     "metadata": {},
     "output_type": "execute_result"
    }
   ],
   "source": [
    "import numpy as np\n",
    "import pandas as pd\n",
    "\n",
    "tabla = pd.DataFrame(\n",
    "    np.random.randint(0, 100, size=(4, 3)),\n",
    "    columns=['Pepe', 'María', 'Juan'])\n",
    "\n",
    "tabla"
   ]
  },
  {
   "cell_type": "code",
   "execution_count": 22,
   "id": "9e78b33e",
   "metadata": {},
   "outputs": [
    {
     "name": "stdout",
     "output_type": "stream",
     "text": [
      "   Pepe  María  Juan\n",
      "0     1     49    46\n",
      "1    26     70    65\n",
      "2    69     29    34\n",
      "3    16     16    68\n"
     ]
    }
   ],
   "source": [
    "print(tabla)"
   ]
  },
  {
   "cell_type": "markdown",
   "id": "44db81f1",
   "metadata": {},
   "source": [
    "En este fragmento estamos haciendo uso de los `dataframes` de `pandas` para manejar una tabla generada a partir de un `array` con valores aleatorios.\n",
    "\n",
    "¿Véis lo que os decía sobre cómo se complementan entre ellas?\n",
    "\n",
    "Con los gráficos pasa lo mismo, podemos dibujar la tabla usando `matplotlib` completando así el ciclo del análisis:"
   ]
  },
  {
   "cell_type": "code",
   "execution_count": 23,
   "id": "fa561b1b",
   "metadata": {},
   "outputs": [
    {
     "data": {
      "image/png": "[encoded data removed]",
      "text/plain": [
       "<Figure size 640x480 with 1 Axes>"
      ]
     },
     "metadata": {},
     "output_type": "display_data"
    }
   ],
   "source": [
    "import matplotlib.pyplot as plt\n",
    "\n",
    "tabla.plot()\n",
    "plt.show()"
   ]
  },
  {
   "cell_type": "markdown",
   "id": "a8cf0a63",
   "metadata": {},
   "source": [
    "La función `show()` causa que la figura se dibuje en la propia celda de entrada `In`.\n",
    "\n"
   ]
  },
  {
   "cell_type": "markdown",
   "id": "90c1d3a8",
   "metadata": {},
   "source": [
    "Utilizando la intrucción especial de Jupyter Notebook `%matplotlib inline` podemos hacer que un gráfico se dibuje en la celda de salida `Out`, esto nos permitirá dibujar más de un gráfico, sería lo equivalente a utilizar `print()` múltiples veces:"
   ]
  },
  {
   "cell_type": "code",
   "execution_count": 25,
   "id": "48db89c6",
   "metadata": {},
   "outputs": [
    {
     "data": {
      "text/plain": [
       "<Axes: >"
      ]
     },
     "execution_count": 25,
     "metadata": {},
     "output_type": "execute_result"
    },
    {
     "data": {
      "image/png": "[encoded data removed]",
      "text/plain": [
       "<Figure size 640x480 with 1 Axes>"
      ]
     },
     "metadata": {},
     "output_type": "display_data"
    }
   ],
   "source": [
    "%matplotlib inline\n",
    "tabla.plot()\n",
    "# tabla.plot()\n",
    "# tabla.plot()"
   ]
  },
  {
   "cell_type": "markdown",
   "id": "df585175",
   "metadata": {},
   "source": [
    "Pero no nos adelantemos, hablaremos más sobre gráficos en la sección de `matplotlib`."
   ]
  },
  {
   "cell_type": "code",
   "execution_count": null,
   "id": "762ad6cf",
   "metadata": {},
   "outputs": [],
   "source": []
  }
 ],
 "metadata": {
  "kernelspec": {
   "display_name": "Python 3 (ipykernel)",
   "language": "python",
   "name": "python3"
  },
  "language_info": {
   "codemirror_mode": {
    "name": "ipython",
    "version": 3
   },
   "file_extension": ".py",
   "mimetype": "text/x-python",
   "name": "python",
   "nbconvert_exporter": "python",
   "pygments_lexer": "ipython3",
   "version": "3.11.3"
  }
 },
 "nbformat": 4,
 "nbformat_minor": 5
}
