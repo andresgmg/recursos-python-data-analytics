{
 "cells": [
  {
   "cell_type": "markdown",
   "id": "2dd737d5",
   "metadata": {},
   "source": [
    "# Configuración previa\n",
    "\n",
    "Instalación de Pipenv  por si alguien no lo tiene:\n",
    "\n",
    "```bash\n",
    "pip install pipenv\n",
    "```\n",
    "\n",
    "También se puede instalar desde el propio Jupyter Notebook con una exclamación delante:\n",
    "\n",
    "\n",
    "```bash\n",
    "!pip install pipenv\n",
    "```"
   ]
  },
  {
   "cell_type": "code",
   "execution_count": 1,
   "id": "9858b7ce",
   "metadata": {},
   "outputs": [
    {
     "name": "stdout",
     "output_type": "stream",
     "text": [
      "Requirement already satisfied: pipenv in c:\\users\\andres-pc\\appdata\\local\\programs\\python\\python311\\lib\\site-packages (2023.8.20)\n",
      "Requirement already satisfied: certifi in c:\\users\\andres-pc\\appdata\\local\\programs\\python\\python311\\lib\\site-packages (from pipenv) (2023.7.22)\n",
      "Requirement already satisfied: setuptools>=67.0.0 in c:\\users\\andres-pc\\appdata\\local\\programs\\python\\python311\\lib\\site-packages (from pipenv) (68.1.2)\n",
      "Requirement already satisfied: virtualenv>=20.24.2 in c:\\users\\andres-pc\\appdata\\local\\programs\\python\\python311\\lib\\site-packages (from pipenv) (20.24.3)\n",
      "Requirement already satisfied: distlib<1,>=0.3.7 in c:\\users\\andres-pc\\appdata\\local\\programs\\python\\python311\\lib\\site-packages (from virtualenv>=20.24.2->pipenv) (0.3.7)\n",
      "Requirement already satisfied: filelock<4,>=3.12.2 in c:\\users\\andres-pc\\appdata\\local\\programs\\python\\python311\\lib\\site-packages (from virtualenv>=20.24.2->pipenv) (3.12.2)\n",
      "Requirement already satisfied: platformdirs<4,>=3.9.1 in c:\\users\\andres-pc\\appdata\\local\\programs\\python\\python311\\lib\\site-packages (from virtualenv>=20.24.2->pipenv) (3.10.0)\n"
     ]
    }
   ],
   "source": [
    "!pip install pipenv"
   ]
  },
  {
   "cell_type": "code",
   "execution_count": null,
   "id": "ec5b0d8f",
   "metadata": {},
   "outputs": [],
   "source": []
  }
 ],
 "metadata": {
  "kernelspec": {
   "display_name": "Python 3 (ipykernel)",
   "language": "python",
   "name": "python3"
  },
  "language_info": {
   "codemirror_mode": {
    "name": "ipython",
    "version": 3
   },
   "file_extension": ".py",
   "mimetype": "text/x-python",
   "name": "python",
   "nbconvert_exporter": "python",
   "pygments_lexer": "ipython3",
   "version": "3.11.3"
  }
 },
 "nbformat": 4,
 "nbformat_minor": 5
}
