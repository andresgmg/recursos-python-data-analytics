{
 "cells": [
  {
   "cell_type": "markdown",
   "id": "b6181a16",
   "metadata": {},
   "source": [
    "# Configuración previa\n",
    "\n",
    "Instalación de `Pandas` por si alguien no lo tiene:\n",
    "\n",
    "```bash\n",
    "pip install pandas\n",
    "```\n",
    "\n",
    "También se puede instalar desde el propio `Jupyter Notebook` con una exclamación delante:\n",
    "\n",
    "```bash\n",
    "!pip install pandas\n",
    "```\n",
    "\n",
    "Al cabo de un rato aparecerá el resultado:"
   ]
  },
  {
   "cell_type": "code",
   "execution_count": 1,
   "id": "a5143f90",
   "metadata": {},
   "outputs": [
    {
     "name": "stdout",
     "output_type": "stream",
     "text": [
      "Requirement already satisfied: pandas in c:\\users\\andres-pc\\.virtualenvs\\recursos-python-data-analytics-yq6c3zxq\\lib\\site-packages (2.1.1)\n",
      "Requirement already satisfied: numpy>=1.23.2 in c:\\users\\andres-pc\\.virtualenvs\\recursos-python-data-analytics-yq6c3zxq\\lib\\site-packages (from pandas) (1.26.1)\n",
      "Requirement already satisfied: python-dateutil>=2.8.2 in c:\\users\\andres-pc\\.virtualenvs\\recursos-python-data-analytics-yq6c3zxq\\lib\\site-packages (from pandas) (2.8.2)\n",
      "Requirement already satisfied: pytz>=2020.1 in c:\\users\\andres-pc\\.virtualenvs\\recursos-python-data-analytics-yq6c3zxq\\lib\\site-packages (from pandas) (2023.3.post1)\n",
      "Requirement already satisfied: tzdata>=2022.1 in c:\\users\\andres-pc\\.virtualenvs\\recursos-python-data-analytics-yq6c3zxq\\lib\\site-packages (from pandas) (2023.3)\n",
      "Requirement already satisfied: six>=1.5 in c:\\users\\andres-pc\\.virtualenvs\\recursos-python-data-analytics-yq6c3zxq\\lib\\site-packages (from python-dateutil>=2.8.2->pandas) (1.16.0)\n"
     ]
    },
    {
     "name": "stderr",
     "output_type": "stream",
     "text": [
      "\n",
      "[notice] A new release of pip is available: 23.2.1 -> 23.3.1\n",
      "[notice] To update, run: python.exe -m pip install --upgrade pip\n"
     ]
    }
   ],
   "source": [
    "!pip install pandas"
   ]
  }
 ],
 "metadata": {
  "kernelspec": {
   "display_name": "Python 3 (ipykernel)",
   "language": "python",
   "name": "python3"
  },
  "language_info": {
   "codemirror_mode": {
    "name": "ipython",
    "version": 3
   },
   "file_extension": ".py",
   "mimetype": "text/x-python",
   "name": "python",
   "nbconvert_exporter": "python",
   "pygments_lexer": "ipython3",
   "version": "3.11.3"
  }
 },
 "nbformat": 4,
 "nbformat_minor": 5
}
